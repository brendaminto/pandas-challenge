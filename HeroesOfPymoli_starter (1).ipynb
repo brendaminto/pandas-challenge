{
 "cells": [
  {
   "cell_type": "markdown",
   "metadata": {},
   "source": [
    "### Note\n",
    "* Instructions have been included for each segment. You do not have to follow them exactly, but they are included to help you think through the steps."
   ]
  },
  {
   "cell_type": "code",
   "execution_count": 1,
   "metadata": {},
   "outputs": [],
   "source": [
    "# Dependencies and Setup\n",
    "import pandas as pd\n",
    "\n",
    "# File to Load (Remember to Change These)\n",
    "file_to_load = \"purchase_data.csv\"\n",
    "\n",
    "# Read Purchasing File and store into Pandas data frame\n",
    "purchase_data = pd.read_csv(file_to_load)"
   ]
  },
  {
   "cell_type": "markdown",
   "metadata": {},
   "source": [
    "## Player Count"
   ]
  },
  {
   "cell_type": "markdown",
   "metadata": {},
   "source": [
    "* Display the total number of players\n"
   ]
  },
  {
   "cell_type": "code",
   "execution_count": 2,
   "metadata": {},
   "outputs": [
    {
     "data": {
      "text/html": [
       "<div>\n",
       "<style scoped>\n",
       "    .dataframe tbody tr th:only-of-type {\n",
       "        vertical-align: middle;\n",
       "    }\n",
       "\n",
       "    .dataframe tbody tr th {\n",
       "        vertical-align: top;\n",
       "    }\n",
       "\n",
       "    .dataframe thead th {\n",
       "        text-align: right;\n",
       "    }\n",
       "</style>\n",
       "<table border=\"1\" class=\"dataframe\">\n",
       "  <thead>\n",
       "    <tr style=\"text-align: right;\">\n",
       "      <th></th>\n",
       "      <th>Purchase ID</th>\n",
       "      <th>SN</th>\n",
       "      <th>Age</th>\n",
       "      <th>Gender</th>\n",
       "      <th>Item ID</th>\n",
       "      <th>Item Name</th>\n",
       "      <th>Price</th>\n",
       "    </tr>\n",
       "  </thead>\n",
       "  <tbody>\n",
       "    <tr>\n",
       "      <td>775</td>\n",
       "      <td>775</td>\n",
       "      <td>Aethedru70</td>\n",
       "      <td>21</td>\n",
       "      <td>Female</td>\n",
       "      <td>60</td>\n",
       "      <td>Wolf</td>\n",
       "      <td>3.54</td>\n",
       "    </tr>\n",
       "    <tr>\n",
       "      <td>776</td>\n",
       "      <td>776</td>\n",
       "      <td>Iral74</td>\n",
       "      <td>21</td>\n",
       "      <td>Male</td>\n",
       "      <td>164</td>\n",
       "      <td>Exiled Doomblade</td>\n",
       "      <td>1.63</td>\n",
       "    </tr>\n",
       "    <tr>\n",
       "      <td>777</td>\n",
       "      <td>777</td>\n",
       "      <td>Yathecal72</td>\n",
       "      <td>20</td>\n",
       "      <td>Male</td>\n",
       "      <td>67</td>\n",
       "      <td>Celeste, Incarnation of the Corrupted</td>\n",
       "      <td>3.46</td>\n",
       "    </tr>\n",
       "    <tr>\n",
       "      <td>778</td>\n",
       "      <td>778</td>\n",
       "      <td>Sisur91</td>\n",
       "      <td>7</td>\n",
       "      <td>Male</td>\n",
       "      <td>101</td>\n",
       "      <td>Final Critic</td>\n",
       "      <td>4.19</td>\n",
       "    </tr>\n",
       "    <tr>\n",
       "      <td>779</td>\n",
       "      <td>779</td>\n",
       "      <td>Ennrian78</td>\n",
       "      <td>24</td>\n",
       "      <td>Male</td>\n",
       "      <td>50</td>\n",
       "      <td>Dawn</td>\n",
       "      <td>4.60</td>\n",
       "    </tr>\n",
       "  </tbody>\n",
       "</table>\n",
       "</div>"
      ],
      "text/plain": [
       "     Purchase ID          SN  Age  Gender  Item ID  \\\n",
       "775          775  Aethedru70   21  Female       60   \n",
       "776          776      Iral74   21    Male      164   \n",
       "777          777  Yathecal72   20    Male       67   \n",
       "778          778     Sisur91    7    Male      101   \n",
       "779          779   Ennrian78   24    Male       50   \n",
       "\n",
       "                                 Item Name  Price  \n",
       "775                                   Wolf   3.54  \n",
       "776                       Exiled Doomblade   1.63  \n",
       "777  Celeste, Incarnation of the Corrupted   3.46  \n",
       "778                           Final Critic   4.19  \n",
       "779                                   Dawn   4.60  "
      ]
     },
     "execution_count": 2,
     "metadata": {},
     "output_type": "execute_result"
    }
   ],
   "source": [
    "purchase_data_summary = purchase_data\n",
    "purchase_data_summary.tail()"
   ]
  },
  {
   "cell_type": "code",
   "execution_count": 3,
   "metadata": {},
   "outputs": [
    {
     "data": {
      "text/html": [
       "<div>\n",
       "<style scoped>\n",
       "    .dataframe tbody tr th:only-of-type {\n",
       "        vertical-align: middle;\n",
       "    }\n",
       "\n",
       "    .dataframe tbody tr th {\n",
       "        vertical-align: top;\n",
       "    }\n",
       "\n",
       "    .dataframe thead th {\n",
       "        text-align: right;\n",
       "    }\n",
       "</style>\n",
       "<table border=\"1\" class=\"dataframe\">\n",
       "  <thead>\n",
       "    <tr style=\"text-align: right;\">\n",
       "      <th></th>\n",
       "      <th>Total Players</th>\n",
       "    </tr>\n",
       "  </thead>\n",
       "  <tbody>\n",
       "    <tr>\n",
       "      <td>0</td>\n",
       "      <td>576</td>\n",
       "    </tr>\n",
       "  </tbody>\n",
       "</table>\n",
       "</div>"
      ],
      "text/plain": [
       "   Total Players\n",
       "0            576"
      ]
     },
     "execution_count": 3,
     "metadata": {},
     "output_type": "execute_result"
    }
   ],
   "source": [
    "#purchase_data [\"SN\"].value_counts()\n",
    "n=purchase_data[\"SN\"].unique().size\n",
    "\n",
    "#(purchase_data[\"SN\"].unique()).size()\n",
    "#total= {\"Total Players\":n}\n",
    "df = pd.DataFrame({\"Total Players\":n},index= [0])\n",
    "#Total_players [\"Total Players\"] = pd.Dataframe(eval(n))\n",
    "df.head()"
   ]
  },
  {
   "cell_type": "markdown",
   "metadata": {},
   "source": [
    "## Purchasing Analysis (Total)"
   ]
  },
  {
   "cell_type": "markdown",
   "metadata": {},
   "source": [
    "* Run basic calculations to obtain number of unique items, average price, etc.\n",
    "\n",
    "\n",
    "* Create a summary data frame to hold the results\n",
    "\n",
    "\n",
    "* Optional: give the displayed data cleaner formatting\n",
    "\n",
    "\n",
    "* Display the summary data frame\n"
   ]
  },
  {
   "cell_type": "code",
   "execution_count": 4,
   "metadata": {
    "scrolled": true
   },
   "outputs": [
    {
     "name": "stdout",
     "output_type": "stream",
     "text": [
      "183\n",
      "3.050987179487176\n",
      "780\n",
      "2379.77\n"
     ]
    }
   ],
   "source": [
    "#Unique Items\n",
    "number_items=purchase_data[\"Item ID\"].unique().size\n",
    "print(number_items)\n",
    "#Average Price\n",
    "avg_price=purchase_data[\"Price\"].mean()\n",
    "print(avg_price)\n",
    "#Number of purchases\n",
    "number_purchases=purchase_data[\"Purchase ID\"].unique().size\n",
    "print(number_purchases)\n",
    "#Total Revenue\n",
    "total_revenue=purchase_data[\"Price\"].sum()\n",
    "print(total_revenue)"
   ]
  },
  {
   "cell_type": "code",
   "execution_count": 5,
   "metadata": {},
   "outputs": [
    {
     "name": "stdout",
     "output_type": "stream",
     "text": [
      "{'Number of Unique Items': 183, 'Average Price': 3.050987179487176, 'Number of Purchases': 780, 'Total Revenue': 2379.77}\n"
     ]
    },
    {
     "data": {
      "text/html": [
       "<div>\n",
       "<style scoped>\n",
       "    .dataframe tbody tr th:only-of-type {\n",
       "        vertical-align: middle;\n",
       "    }\n",
       "\n",
       "    .dataframe tbody tr th {\n",
       "        vertical-align: top;\n",
       "    }\n",
       "\n",
       "    .dataframe thead th {\n",
       "        text-align: right;\n",
       "    }\n",
       "</style>\n",
       "<table border=\"1\" class=\"dataframe\">\n",
       "  <thead>\n",
       "    <tr style=\"text-align: right;\">\n",
       "      <th></th>\n",
       "      <th>Number of Unique Items</th>\n",
       "      <th>Average Price</th>\n",
       "      <th>Number of Purchases</th>\n",
       "      <th>Total Revenue</th>\n",
       "    </tr>\n",
       "  </thead>\n",
       "  <tbody>\n",
       "    <tr>\n",
       "      <td>summary_table</td>\n",
       "      <td>183.0</td>\n",
       "      <td>$3.05</td>\n",
       "      <td>780</td>\n",
       "      <td>$2379.77</td>\n",
       "    </tr>\n",
       "  </tbody>\n",
       "</table>\n",
       "</div>"
      ],
      "text/plain": [
       "               Number of Unique Items Average Price Number of Purchases  \\\n",
       "summary_table                   183.0         $3.05                 780   \n",
       "\n",
       "              Total Revenue  \n",
       "summary_table      $2379.77  "
      ]
     },
     "execution_count": 5,
     "metadata": {},
     "output_type": "execute_result"
    }
   ],
   "source": [
    "summary_table={\"Number of Unique Items\":number_items,\n",
    "                \"Average Price\":avg_price,\n",
    "                \"Number of Purchases\":number_purchases,\n",
    "                \"Total Revenue\":total_revenue}\n",
    "\n",
    "print(summary_table)\n",
    "\n",
    "df1 = pd.DataFrame({\"summary_table\":summary_table})\n",
    "df2=df1.transpose()\n",
    "df2[\"Average Price\"]=df2[\"Average Price\"].map(\"${:.2f}\".format)\n",
    "df2[\"Number of Purchases\"]=df2[\"Number of Purchases\"].map(\"{:.0f}\".format)\n",
    "df2[\"Total Revenue\"]=df2[\"Total Revenue\"].map(\"${:.2f}\".format)\n",
    "df2=df2[[\"Number of Unique Items\",\"Average Price\",\"Number of Purchases\",\"Total Revenue\"]]\n",
    "df2.head()"
   ]
  },
  {
   "cell_type": "markdown",
   "metadata": {},
   "source": [
    "## Gender Demographics"
   ]
  },
  {
   "cell_type": "markdown",
   "metadata": {},
   "source": [
    "* Percentage and Count of Male Players\n",
    "\n",
    "\n",
    "* Percentage and Count of Female Players\n",
    "\n",
    "\n",
    "* Percentage and Count of Other / Non-Disclosed\n",
    "\n",
    "\n"
   ]
  },
  {
   "cell_type": "code",
   "execution_count": 6,
   "metadata": {},
   "outputs": [
    {
     "name": "stdout",
     "output_type": "stream",
     "text": [
      "484\n",
      "81\n",
      "11\n",
      "576\n",
      "{'Total Count': [484, 81, 11], 'Percentage of Players': [84.02777777777779, 14.0625, 1.9097222222222223]}\n"
     ]
    },
    {
     "data": {
      "text/html": [
       "<div>\n",
       "<style scoped>\n",
       "    .dataframe tbody tr th:only-of-type {\n",
       "        vertical-align: middle;\n",
       "    }\n",
       "\n",
       "    .dataframe tbody tr th {\n",
       "        vertical-align: top;\n",
       "    }\n",
       "\n",
       "    .dataframe thead th {\n",
       "        text-align: right;\n",
       "    }\n",
       "</style>\n",
       "<table border=\"1\" class=\"dataframe\">\n",
       "  <thead>\n",
       "    <tr style=\"text-align: right;\">\n",
       "      <th></th>\n",
       "      <th>Total Count</th>\n",
       "      <th>Percentage of Players</th>\n",
       "    </tr>\n",
       "  </thead>\n",
       "  <tbody>\n",
       "    <tr>\n",
       "      <td>Male</td>\n",
       "      <td>484</td>\n",
       "      <td>84.03%</td>\n",
       "    </tr>\n",
       "    <tr>\n",
       "      <td>Female</td>\n",
       "      <td>81</td>\n",
       "      <td>14.06%</td>\n",
       "    </tr>\n",
       "    <tr>\n",
       "      <td>Other / Non-Disclosed</td>\n",
       "      <td>11</td>\n",
       "      <td>1.91%</td>\n",
       "    </tr>\n",
       "  </tbody>\n",
       "</table>\n",
       "</div>"
      ],
      "text/plain": [
       "                       Total Count Percentage of Players\n",
       "Male                           484                84.03%\n",
       "Female                          81                14.06%\n",
       "Other / Non-Disclosed           11                 1.91%"
      ]
     },
     "execution_count": 6,
     "metadata": {},
     "output_type": "execute_result"
    }
   ],
   "source": [
    "#Number of Male\n",
    "df3=purchase_data.loc[purchase_data[\"Gender\"]==\"Male\"]\n",
    "df3.head()\n",
    "number_male=df3[\"SN\"].unique().size\n",
    "print(number_male)\n",
    "\n",
    "#number_males=purchase_data[[purchase_data[\"Gender\"]==\"Male\"]].value_count()\n",
    "#print(purchase_data[\"Gender\"].value_counts())\n",
    "\n",
    "#Number of Female\n",
    "df4=purchase_data.loc[purchase_data[\"Gender\"]==\"Female\"]\n",
    "df4.head()\n",
    "number_female=df4[\"SN\"].unique().size\n",
    "print(number_female)\n",
    "\n",
    "#Number of Other/Non-Disclosed\n",
    "df5=purchase_data.loc[purchase_data[\"Gender\"]==\"Other / Non-Disclosed\"]\n",
    "df5.head()\n",
    "number_other=df5[\"SN\"].unique().size\n",
    "print(number_other)\n",
    "\n",
    "total_ind = number_male+number_female+number_other\n",
    "print(total_ind)\n",
    "\n",
    "per_male = number_male/total_ind*100\n",
    "\n",
    "per_female = number_female/total_ind*100\n",
    "\n",
    "per_other = number_other/total_ind*100\n",
    "\n",
    "\n",
    "dict_ind = {\"Total Count\":[number_male,number_female,number_other],\n",
    "           \"Percentage of Players\":[per_male,per_female,per_other] }\n",
    "print(dict_ind)\n",
    "\n",
    "df6 = pd.DataFrame(dict_ind,index=[\"Male\",\"Female\",\"Other / Non-Disclosed\"])\n",
    "\n",
    "df6[\"Percentage of Players\"]=df6[\"Percentage of Players\"].map(\"{:.2f}%\".format)\n",
    "df6.head()"
   ]
  },
  {
   "cell_type": "markdown",
   "metadata": {},
   "source": [
    "\n",
    "## Purchasing Analysis (Gender)"
   ]
  },
  {
   "cell_type": "markdown",
   "metadata": {},
   "source": [
    "* Run basic calculations to obtain purchase count, avg. purchase price, avg. purchase total per person etc. by gender\n",
    "\n",
    "\n",
    "\n",
    "\n",
    "* Create a summary data frame to hold the results\n",
    "\n",
    "\n",
    "* Optional: give the displayed data cleaner formatting\n",
    "\n",
    "\n",
    "* Display the summary data frame"
   ]
  },
  {
   "cell_type": "code",
   "execution_count": 7,
   "metadata": {},
   "outputs": [
    {
     "name": "stdout",
     "output_type": "stream",
     "text": [
      "484\n",
      "4.065371900826446\n"
     ]
    },
    {
     "ename": "NameError",
     "evalue": "name 'puchase_other_count' is not defined",
     "output_type": "error",
     "traceback": [
      "\u001b[0;31m---------------------------------------------------------------------------\u001b[0m",
      "\u001b[0;31mNameError\u001b[0m                                 Traceback (most recent call last)",
      "\u001b[0;32m<ipython-input-7-511613bf58f3>\u001b[0m in \u001b[0;36m<module>\u001b[0;34m\u001b[0m\n\u001b[1;32m     26\u001b[0m \u001b[0;34m\u001b[0m\u001b[0m\n\u001b[1;32m     27\u001b[0m \u001b[0;31m#Avg by Gender\u001b[0m\u001b[0;34m\u001b[0m\u001b[0;34m\u001b[0m\u001b[0;34m\u001b[0m\u001b[0m\n\u001b[0;32m---> 28\u001b[0;31m \u001b[0mavg_price_other\u001b[0m \u001b[0;34m=\u001b[0m \u001b[0mother_total_p_value\u001b[0m\u001b[0;34m/\u001b[0m\u001b[0mpuchase_other_count\u001b[0m\u001b[0;34m[\u001b[0m\u001b[0;34m\"Purchase ID\"\u001b[0m\u001b[0;34m]\u001b[0m\u001b[0;34m\u001b[0m\u001b[0;34m\u001b[0m\u001b[0m\n\u001b[0m\u001b[1;32m     29\u001b[0m \u001b[0mprint\u001b[0m\u001b[0;34m(\u001b[0m\u001b[0mavg_price_other\u001b[0m\u001b[0;34m)\u001b[0m\u001b[0;34m\u001b[0m\u001b[0;34m\u001b[0m\u001b[0m\n\u001b[1;32m     30\u001b[0m \u001b[0;34m\u001b[0m\u001b[0m\n",
      "\u001b[0;31mNameError\u001b[0m: name 'puchase_other_count' is not defined"
     ]
    }
   ],
   "source": [
    "#Purchase count\n",
    "purchase_other_count= purchase_data.loc[purchase_data[\"Gender\"]==\"Other / Non-Disclosed\"].count()\n",
    "purchase_male_count = purchase_data.loc[purchase_data[\"Gender\"]==\"Male\"].count()\n",
    "purchase_female_count = purchase_data.loc[purchase_data[\"Gender\"]==\"Female\"].count()\n",
    "#print(purchase_female_count[\"Purchase ID\"])\n",
    "#print(purchase_male_count[\"Purchase ID\"])\n",
    "#print(purchase_other_count[\"Purchase ID\"])\n",
    "\n",
    "#df by Gender\n",
    "other_df=purchase_data.loc[purchase_data[\"Gender\"]==\"Other / Non-Disclosed\"]\n",
    "male_df=purchase_data.loc[purchase_data[\"Gender\"]==\"Male\"]\n",
    "female_df=purchase_data.loc[purchase_data[\"Gender\"]==\"Female\"]\n",
    "\n",
    "#Total by Gender\n",
    "other_total_p_value=other_df[\"Price\"].sum()\n",
    "male_total_p_value=male_df[\"Price\"].sum()\n",
    "female_total_p_value=female_df[\"Price\"].sum()\n",
    "#print(other_total_p_value)\n",
    "\n",
    "#Average by Person Gender\n",
    "avg_price_person_other= other_total_p_value/number_other\n",
    "avg_price_person_male= male_total_p_value/number_male\n",
    "avg_price_person_female= female_total_p_value/number_female\n",
    "print(number_male)\n",
    "print(avg_price_person_male)\n",
    "\n",
    "#Avg by Gender\n",
    "avg_price_other = other_total_p_value/puchase_other_count[\"Purchase ID\"]\n",
    "print(avg_price_other)\n",
    "\n",
    "avg_price_female = female_total_p_value/puchase_female_count[\"Purchase ID\"]\n",
    "print(avg_price_female)\n",
    "\n",
    "avg_price_male = male_total_p_value/puchase_male_count[\"Purchase ID\"]\n",
    "print(avg_price_male)\n"
   ]
  },
  {
   "cell_type": "code",
   "execution_count": null,
   "metadata": {},
   "outputs": [],
   "source": [
    "summary_dict = {\"Purchase Count\":[puchase_female_count[\"Purchase ID\"],puchase_male_count[\"Purchase ID\"],puchase_other_count[\"Purchase ID\"]],\n",
    "                \"Average Purchase Price\":[avg_price_female,avg_price_male,avg_price_other],\n",
    "                \"Total Purchase Value\":[female_total_p_value,male_total_p_value,other_total_p_value],\n",
    "                \"Avg Total Purchase per Person\":[avg_price_person_female,avg_price_person_male,avg_price_person_other]}"
   ]
  },
  {
   "cell_type": "code",
   "execution_count": null,
   "metadata": {},
   "outputs": [],
   "source": [
    "summary_dict"
   ]
  },
  {
   "cell_type": "code",
   "execution_count": null,
   "metadata": {},
   "outputs": [],
   "source": [
    "df7 = pd.DataFrame(summary_dict,index=[\"Female\",\"Male\",\"Other / Non-Disclosed\"])\n",
    "df7[\"Average Purchase Price\"]=df7[\"Average Purchase Price\"].map(\"${:.2f}\".format)\n",
    "df7[\"Total Purchase Value\"]=df7[\"Total Purchase Value\"].map(\"${:.2f}\".format)\n",
    "df7[\"Avg Total Purchase per Person\"]=df7[\"Avg Total Purchase per Person\"].map(\"${:.2f}\".format)\n",
    "df7"
   ]
  },
  {
   "cell_type": "markdown",
   "metadata": {},
   "source": [
    "## Age Demographics"
   ]
  },
  {
   "cell_type": "markdown",
   "metadata": {},
   "source": [
    "* Establish bins for ages\n",
    "\n",
    "\n",
    "* Categorize the existing players using the age bins. Hint: use pd.cut()\n",
    "\n",
    "\n",
    "* Calculate the numbers and percentages by age group\n",
    "\n",
    "\n",
    "* Create a summary data frame to hold the results\n",
    "\n",
    "\n",
    "* Optional: round the percentage column to two decimal points\n",
    "\n",
    "\n",
    "* Display Age Demographics Table\n"
   ]
  },
  {
   "cell_type": "code",
   "execution_count": null,
   "metadata": {},
   "outputs": [],
   "source": [
    "bins=[0,9,14,19,24,29,34,39,46]\n",
    "group_names = [\"<10\", \"10-14\", \"15-19\", \"20-24\", \"25-29\",\"30-34\",\"35-39\",\"40+\"]\n",
    "purchase_data.head()"
   ]
  },
  {
   "cell_type": "code",
   "execution_count": null,
   "metadata": {},
   "outputs": [],
   "source": [
    "#purchase_data[\"SN\"].value_counts()\n",
    "purchase_data[\"Age Group\"]= pd.cut(purchase_data[\"Age\"], bins, labels=group_names)\n",
    "total_count=purchase_data.groupby(\"Age Group\")[\"SN\"].nunique()\n",
    "percentage=purchase_data.groupby(\"Age Group\")[\"SN\"].nunique()/n*100\n",
    "merged=pd.merge(total_count,percentage,on=\"Age Group\")\n",
    "merged[\"SN_y\"]=merged[\"SN_y\"].map(\"{:.2f}%\".format)\n",
    "merged.rename(columns={\"SN_x\":\"Total Count\",\"SN_y\":\"Percentage of Players\"})"
   ]
  },
  {
   "cell_type": "markdown",
   "metadata": {},
   "source": [
    "## Purchasing Analysis (Age)"
   ]
  },
  {
   "cell_type": "markdown",
   "metadata": {},
   "source": [
    "* Bin the purchase_data data frame by age\n",
    "\n",
    "\n",
    "* Run basic calculations to obtain purchase count, avg. purchase price, avg. purchase total per person etc. in the table below\n",
    "\n",
    "\n",
    "* Create a summary data frame to hold the results\n",
    "\n",
    "\n",
    "* Optional: give the displayed data cleaner formatting\n",
    "\n",
    "\n",
    "* Display the summary data frame"
   ]
  },
  {
   "cell_type": "code",
   "execution_count": null,
   "metadata": {},
   "outputs": [],
   "source": [
    "#Total Purchase Value\n",
    "total_purchase_val=purchase_data.groupby(\"Age Group\")[\"Price\"].sum()\n",
    "print(total_purchase_val)\n",
    "\n",
    "\n",
    "#Purchase Count\n",
    "purchase_count=purchase_data.groupby(\"Age Group\").count()\n",
    "print(purchase_count[\"Purchase ID\"])\n",
    "\n",
    "#Average Purchase Price\n",
    "avg_purchase_price=total_purchase_val/purchase_count[\"Purchase ID\"]\n",
    "print(avg_purchase_price)\n",
    "\n",
    "#Avg Total Purchase per Person\n",
    "avg_tot_pur_person=total_purchase_val/total_count\n",
    "print(avg_tot_pur_person)"
   ]
  },
  {
   "cell_type": "code",
   "execution_count": null,
   "metadata": {},
   "outputs": [],
   "source": [
    "merged_value=pd.concat([purchase_count[\"Purchase ID\"],\n",
    "                        avg_purchase_price,\n",
    "                        total_purchase_val,\n",
    "                        avg_tot_pur_person],axis=1)\n",
    "merged_value"
   ]
  },
  {
   "cell_type": "code",
   "execution_count": null,
   "metadata": {},
   "outputs": [],
   "source": [
    "merged_value.rename({\"Purchase ID\":\"Purchase Count\",\n",
    "                             0:\"Average Purchase Price\",\n",
    "                            \"Price\":\"Total Purchase Value\",\n",
    "                             1:\"Avg Total Purchase per Person\"},axis=1, inplace=True)\n",
    "merged_value"
   ]
  },
  {
   "cell_type": "code",
   "execution_count": null,
   "metadata": {},
   "outputs": [],
   "source": [
    "#merged_value[\"Price\"]=merged_value[\"Price\"].map(\"${:.2f}\".format)\n",
    "#merged_value[\"0\"]=merged_value[\"0\"].map(\"${:.2f}\".format)"
   ]
  },
  {
   "cell_type": "markdown",
   "metadata": {},
   "source": [
    "## Top Spenders"
   ]
  },
  {
   "cell_type": "markdown",
   "metadata": {},
   "source": [
    "* Run basic calculations to obtain the results in the table below\n",
    "\n",
    "\n",
    "* Create a summary data frame to hold the results\n",
    "\n",
    "\n",
    "* Sort the total purchase value column in descending order\n",
    "\n",
    "\n",
    "* Optional: give the displayed data cleaner formatting\n",
    "\n",
    "\n",
    "* Display a preview of the summary data frame\n",
    "\n"
   ]
  },
  {
   "cell_type": "code",
   "execution_count": null,
   "metadata": {},
   "outputs": [],
   "source": [
    "grouped=purchase_data.groupby([\"SN\"])"
   ]
  },
  {
   "cell_type": "code",
   "execution_count": null,
   "metadata": {},
   "outputs": [],
   "source": [
    "purchase_data.head()"
   ]
  },
  {
   "cell_type": "code",
   "execution_count": null,
   "metadata": {},
   "outputs": [],
   "source": [
    "data=purchase_data[\"SN\"].value_counts()\n",
    "data"
   ]
  },
  {
   "cell_type": "code",
   "execution_count": null,
   "metadata": {},
   "outputs": [],
   "source": [
    "data1=purchase_data.groupby(\"SN\")[\"Price\"].sum()"
   ]
  },
  {
   "cell_type": "code",
   "execution_count": null,
   "metadata": {},
   "outputs": [],
   "source": [
    "data3=pd.concat([data,data1],axis=1)"
   ]
  },
  {
   "cell_type": "code",
   "execution_count": null,
   "metadata": {},
   "outputs": [],
   "source": [
    "data4=data3.sort_values(by=\"Price\", ascending=False)"
   ]
  },
  {
   "cell_type": "code",
   "execution_count": null,
   "metadata": {},
   "outputs": [],
   "source": [
    "data4[\"Average Purchase Price\"]=data4[\"Price\"]/data4[\"SN\"]\n",
    "\n",
    "new_order=[\"SN\",\"Average Purchase Price\",\"Price\"]\n",
    "data5=data4.rename(columns={\"SN\":\"Purchase Count\",\"Price\":\"Total Purchase Value\" })\n",
    "\n",
    "data5[\"Average Purchase Price\"]=data5[\"Average Purchase Price\"].map(\"${:.2f}\".format)\n",
    "data5[\"Total Purchase Value\"]=data5[\"Total Purchase Value\"].map(\"${:.2f}\".format)\n",
    "#data5[data5.columns[\"Purchase Count\",\"Average Purchase Price\",\"Total Purchase Value\"]]\n",
    "data5.head(5)"
   ]
  },
  {
   "cell_type": "markdown",
   "metadata": {},
   "source": [
    "## Most Popular Items"
   ]
  },
  {
   "cell_type": "markdown",
   "metadata": {},
   "source": [
    "* Retrieve the Item ID, Item Name, and Item Price columns\n",
    "\n",
    "\n",
    "* Group by Item ID and Item Name. Perform calculations to obtain purchase count, item price, and total purchase value\n",
    "\n",
    "\n",
    "* Create a summary data frame to hold the results\n",
    "\n",
    "\n",
    "* Sort the purchase count column in descending order\n",
    "\n",
    "\n",
    "* Optional: give the displayed data cleaner formatting\n",
    "\n",
    "\n",
    "* Display a preview of the summary data frame\n",
    "\n"
   ]
  },
  {
   "cell_type": "code",
   "execution_count": null,
   "metadata": {},
   "outputs": [],
   "source": [
    "data6=purchase_data[\"Item ID\"].value_counts()\n",
    "data6\n",
    "\n",
    "data7=purchase_data.groupby(\"Item ID\")[\"Price\"].sum()\n",
    "data7\n",
    "\n",
    "data8=purchase_data.groupby(\"Item ID\")[\"Item Name\"]\n",
    "data8.max()"
   ]
  },
  {
   "cell_type": "code",
   "execution_count": null,
   "metadata": {},
   "outputs": [],
   "source": [
    "data9=pd.concat([data6,data7,data8.max()],axis=1)\n",
    "data9\n",
    "\n",
    "data10=data9.sort_values(by=\"Item ID\",ascending=False)\n",
    "data10[\"Item Price\"] = data10[\"Price\"]/data10[\"Item ID\"]\n",
    "data11= data10.rename(columns={\"Item Name\":\"Item Name\",\"Item ID\":\"Purchase Count\",\"Item Price\":\"Item Price\",\"Price\":\"Total Purchase Value\"})\n",
    "data11= data11.rename_axis(\"Item ID\")\n",
    "\n",
    "data11 = data11[[\"Item Name\",\"Purchase Count\",\"Item Price\",\"Total Purchase Value\"]]\n",
    "data11.head(5)"
   ]
  },
  {
   "cell_type": "markdown",
   "metadata": {},
   "source": [
    "## Most Profitable Items"
   ]
  },
  {
   "cell_type": "markdown",
   "metadata": {},
   "source": [
    "* Sort the above table by total purchase value in descending order\n",
    "\n",
    "\n",
    "* Optional: give the displayed data cleaner formatting\n",
    "\n",
    "\n",
    "* Display a preview of the data frame\n",
    "\n"
   ]
  },
  {
   "cell_type": "code",
   "execution_count": null,
   "metadata": {
    "scrolled": true
   },
   "outputs": [],
   "source": [
    "data12=data9.sort_values(by=\"Price\",ascending=False)\n",
    "data12[\"Item Price\"] = data12[\"Price\"]/data12[\"Item ID\"]\n",
    "#data12.head(5)\n",
    "data13= data12.rename(columns={\"Item Name\":\"Item Name\",\"Item ID\":\"Purchase Count\",\"Item Price\":\"Item Price\",\"Price\":\"Total Purchase Value\"})\n",
    "data13= data13.rename_axis(\"Item ID\")\n",
    "data13 = data13[[\"Item Name\",\"Purchase Count\",\"Item Price\",\"Total Purchase Value\"]]\n",
    "data13.head(5)"
   ]
  }
 ],
 "metadata": {
  "anaconda-cloud": {},
  "kernel_info": {
   "name": "python3"
  },
  "kernelspec": {
   "display_name": "Python 3",
   "language": "python",
   "name": "python3"
  },
  "language_info": {
   "codemirror_mode": {
    "name": "ipython",
    "version": 3
   },
   "file_extension": ".py",
   "mimetype": "text/x-python",
   "name": "python",
   "nbconvert_exporter": "python",
   "pygments_lexer": "ipython3",
   "version": "3.7.4"
  },
  "latex_envs": {
   "LaTeX_envs_menu_present": true,
   "autoclose": false,
   "autocomplete": true,
   "bibliofile": "biblio.bib",
   "cite_by": "apalike",
   "current_citInitial": 1,
   "eqLabelWithNumbers": true,
   "eqNumInitial": 1,
   "hotkeys": {
    "equation": "Ctrl-E",
    "itemize": "Ctrl-I"
   },
   "labels_anchors": false,
   "latex_user_defs": false,
   "report_style_numbering": false,
   "user_envs_cfg": false
  },
  "nteract": {
   "version": "0.2.0"
  }
 },
 "nbformat": 4,
 "nbformat_minor": 2
}
